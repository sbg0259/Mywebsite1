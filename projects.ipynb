{
  "cells": [
    {
      "cell_type": "raw",
      "metadata": {},
      "source": [
        "---\n",
        "title: \"Projects\"\n",
        "output:\n",
        "  quarto::quarto_html:\n",
        "    self_contained: false\n",
        "---"
      ],
      "id": "01e695ea"
    },
    {
      "cell_type": "markdown",
      "metadata": {},
      "source": [
        "# Welcome to My STAT-515 Mid Project\n",
        "\n",
        "Here's an embedded PDF:\n",
        "\n",
        "```{pdf, path=\"/Users/saibhaskarganeshgandi/Documents/GitHub/mywebsite1/docs/Midproject1.pdf\"}\n",
        "\n",
        "---\n",
        "\n",
        "My STAT-515 Projects\n"
      ],
      "id": "bd66c619"
    }
  ],
  "metadata": {
    "kernelspec": {
      "display_name": "Python 3",
      "language": "python",
      "name": "python3"
    }
  },
  "nbformat": 4,
  "nbformat_minor": 5
}